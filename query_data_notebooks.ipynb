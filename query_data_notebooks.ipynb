{
 "cells": [
  {
   "cell_type": "code",
   "execution_count": null,
   "id": "283d4723",
   "metadata": {},
   "outputs": [],
   "source": [
    "import pandas as pd\n",
    "import matplotlib.pyplot as plt\n",
    "import seaborn as sns\n",
    "from sqlalchemy import func, desc, distinct\n",
    "from db import SessionLocal, Customers, Products, Sales"
   ]
  },
  {
   "cell_type": "code",
   "execution_count": null,
   "id": "b2a920b3",
   "metadata": {},
   "outputs": [],
   "source": [
    "session = SessionLocal()"
   ]
  },
  {
   "cell_type": "code",
   "execution_count": null,
   "id": "113005c7",
   "metadata": {},
   "outputs": [],
   "source": [
    "def get_total_sales_per_customer(session):\n",
    "    \"\"\"\n",
    "    Calcula el total gastado por cada cliente.\n",
    "    \"\"\"\n",
    "    query = (\n",
    "        session.query(\n",
    "            Customers.name.label(\"customer_name\"),\n",
    "            Customers.city,\n",
    "            func.sum(Sales.quantity * Products.price).label(\"total_spent\")\n",
    "            \n",
    "        )\n",
    "        .join(Sales, Customers.customer_id == Sales.customer_id)\n",
    "        .join(Products, Sales.product_id == Products.product_id)\n",
    "        .group_by(Customers.name, Customers.city)\n",
    "        .having(func.sum(Sales.quantity * Products.price) > 10000)\n",
    "        .order_by(desc(\"total_spent\"))\n",
    "    )\n",
    "    # Convertir el resultado de la consulta a un DataFrame de Pandas\n",
    "    df = pd.read_sql(query.statement, session.bind)\n",
    "    return df.head(10)"
   ]
  },
  {
   "cell_type": "code",
   "execution_count": null,
   "id": "24758226",
   "metadata": {},
   "outputs": [],
   "source": [
    "df = get_total_sales_per_customer(session)"
   ]
  },
  {
   "cell_type": "code",
   "execution_count": null,
   "id": "70c438b3",
   "metadata": {},
   "outputs": [],
   "source": [
    "if df.empty:\n",
    "        print(\"No hay datos de productos para visualizar.\")\n",
    "        \n",
    "plt.figure(figsize=(10, 6))\n",
    "sns.barplot(x='total_spent', y='customer_name', hue = 'customer_name', data=df, palette='viridis')\n",
    "plt.title('Top 5 Productos Más Vendidos por Cantidad')\n",
    "plt.xlabel('Cantidad Total Vendida')\n",
    "plt.ylabel('Producto')\n",
    "plt.tight_layout()\n",
    "plt.show()"
   ]
  },
  {
   "cell_type": "code",
   "execution_count": null,
   "id": "ceca2835",
   "metadata": {},
   "outputs": [],
   "source": [
    "def get_top_selling_products(session, limit=5):\n",
    "    \"\"\"\n",
    "    Encuentra los productos más vendidos por cantidad usando el ORM de SQLAlchemy.\n",
    "    \"\"\"\n",
    "    query = (\n",
    "        session.query(\n",
    "            Products.name.label(\"product_name\"),\n",
    "            Products.category,\n",
    "            func.sum(Sales.quantity).label(\"total_quantity_sold\"),\n",
    "        )\n",
    "        .join(Sales, Products.product_id == Sales.product_id)\n",
    "        .group_by(Products.name, Products.category)\n",
    "        .order_by(desc(\"total_quantity_sold\"))\n",
    "        .limit(limit)\n",
    "    )\n",
    "    df = pd.read_sql(query.statement, session.bind)\n",
    "    return df"
   ]
  },
  {
   "cell_type": "code",
   "execution_count": null,
   "id": "6774ff17",
   "metadata": {},
   "outputs": [],
   "source": [
    "df =  get_top_selling_products(session)"
   ]
  },
  {
   "cell_type": "markdown",
   "id": "e1fea357",
   "metadata": {},
   "source": [
    "## Usando seaborn"
   ]
  },
  {
   "cell_type": "code",
   "execution_count": null,
   "id": "1edccbdc",
   "metadata": {},
   "outputs": [],
   "source": [
    "if df.empty:\n",
    "         print(\"No hay datos de productos para visualizar.\")\n",
    "plt.figure(figsize=(10, 6))\n",
    "sns.barplot(x='total_quantity_sold', y='product_name', hue='product_name', data=df, palette='viridis')\n",
    "plt.title('Top 5 Productos Más Vendidos por Cantidad')\n",
    "plt.xlabel('Cantidad Total Vendida')\n",
    "plt.ylabel('Producto')\n",
    "plt.tight_layout()\n",
    "plt.show()"
   ]
  },
  {
   "cell_type": "code",
   "execution_count": null,
   "id": "1d1afece",
   "metadata": {},
   "outputs": [],
   "source": [
    "def get_monthly_sales_trend(session):\n",
    "    \"\"\"\n",
    "    Calcula la tendencia de ventas mensuales usando el ORM de SQLAlchemy.\n",
    "    \"\"\"\n",
    "    # La función to_char es específica de PostgreSQL, la usamos con func\n",
    "    sales_month = func.to_char(Sales.sale_date, \"YYYY-MM\").label(\"sales_month\")\n",
    "\n",
    "    query = (\n",
    "        session.query(\n",
    "            sales_month,\n",
    "            func.sum(Sales.quantity * Products.price).label(\"total_sales\"),\n",
    "        )\n",
    "        .join(Products, Sales.product_id == Products.product_id)\n",
    "        .filter(func.extract(\"year\", Sales.sale_date) == 2025)\n",
    "        .group_by(sales_month)\n",
    "        .order_by(desc(\"total_sales\"))\n",
    "    )\n",
    "    df = pd.read_sql(query.statement, session.bind)\n",
    "    return df"
   ]
  },
  {
   "cell_type": "code",
   "execution_count": null,
   "id": "d145c330",
   "metadata": {},
   "outputs": [],
   "source": [
    "get_monthly_sales_trend(session)"
   ]
  },
  {
   "cell_type": "code",
   "execution_count": null,
   "id": "fb6bbcb2",
   "metadata": {},
   "outputs": [],
   "source": [
    "def get_total_sales_per_customer_gender(session):\n",
    "    \n",
    "    query = (\n",
    "        session.query(\n",
    "            Customers.gender.label(\"customer_gender\"),\n",
    "            func.count(distinct(Customers.customer_id)).label(\"total_sales\"),\n",
    "        )\n",
    "        .join(Sales, Customers.customer_id == Sales.customer_id)\n",
    "        .join(Products, Sales.product_id == Products.product_id)\n",
    "        .group_by(Customers.gender)\n",
    "        .order_by(desc(\"total_sales\"))\n",
    "    )\n",
    "    # Convertir el resultado de la consulta a un DataFrame de Pandas\n",
    "    df = pd.read_sql(query.statement, session.bind)\n",
    "    return df"
   ]
  },
  {
   "cell_type": "markdown",
   "id": "442ce7bf",
   "metadata": {},
   "source": [
    "### Usando matplotlib"
   ]
  },
  {
   "cell_type": "code",
   "execution_count": null,
   "id": "6d1091de",
   "metadata": {},
   "outputs": [],
   "source": [
    "df_customer_gender = get_total_sales_per_customer_gender(session)\n",
    "plt.scatter(df_customer_gender['customer_gender'], df_customer_gender['total_sales'])\n",
    "plt.show()"
   ]
  },
  {
   "cell_type": "markdown",
   "id": "e300607d",
   "metadata": {},
   "source": [
    "## Usando Dataframe method"
   ]
  },
  {
   "cell_type": "code",
   "execution_count": null,
   "id": "b9f404f3",
   "metadata": {},
   "outputs": [],
   "source": [
    "df_customer_gender.plot(kind='scatter', x='customer_gender', y='total_sales')\n",
    "plt.show()"
   ]
  },
  {
   "cell_type": "code",
   "execution_count": null,
   "id": "41b12b06",
   "metadata": {},
   "outputs": [],
   "source": [
    "def profitable_categories(session):\n",
    "\n",
    "    query = (\n",
    "        session.query(\n",
    "            Products.category.label(\"Categorias\"),\n",
    "            func.sum(Sales.quantity * Products.price).label(\"Facturacion\"),\n",
    "            func.avg(Sales.quantity).label(\"Ventas por unidad\")\n",
    "        )\n",
    "        .join(Sales, Products.product_id == Sales.product_id)\n",
    "        .group_by(Products.category)\n",
    "        .order_by(\"Facturacion\")\n",
    "    )\n",
    "    df = pd.read_sql(query.statement, session.bind)\n",
    "    \n",
    "    df['Ventas por unidad'] = df['Ventas por unidad'].round(2)\n",
    "    df['Facturacion'] = df['Facturacion'].apply(\n",
    "        lambda x: f'{x:,.2f}'.replace(',', 'X').replace('.', ',').replace('X', '.'))\n",
    "    \n",
    "    return df"
   ]
  },
  {
   "cell_type": "code",
   "execution_count": null,
   "id": "3ef106ff",
   "metadata": {},
   "outputs": [],
   "source": [
    "plt.plot(profitable_categories(session)['Categorias'], profitable_categories(session)['Facturacion'])\n",
    "plt.show()"
   ]
  },
  {
   "cell_type": "code",
   "execution_count": null,
   "id": "e5d3578e",
   "metadata": {},
   "outputs": [],
   "source": [
    "plt.scatter(profitable_categories(session)['Categorias'], profitable_categories(session)['Facturacion'])\n",
    "plt.show()"
   ]
  }
 ],
 "metadata": {
  "kernelspec": {
   "display_name": ".venv",
   "language": "python",
   "name": "python3"
  },
  "language_info": {
   "codemirror_mode": {
    "name": "ipython",
    "version": 3
   },
   "file_extension": ".py",
   "mimetype": "text/x-python",
   "name": "python",
   "nbconvert_exporter": "python",
   "pygments_lexer": "ipython3",
   "version": "3.11.9"
  }
 },
 "nbformat": 4,
 "nbformat_minor": 5
}
